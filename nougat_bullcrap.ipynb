{
 "cells": [
  {
   "cell_type": "code",
   "execution_count": 1,
   "id": "448204ea",
   "metadata": {},
   "outputs": [
    {
     "name": "stdout",
     "output_type": "stream",
     "text": [
      "Collecting nougat-ocr\n",
      "  Downloading nougat_ocr-0.1.17-py3-none-any.whl (82 kB)\n",
      "\u001b[K     |████████████████████████████████| 82 kB 270 kB/s eta 0:00:011\n",
      "\u001b[?25hCollecting lightning<2022,>=2.0.0\n",
      "  Downloading lightning-2.1.2-py3-none-any.whl (2.0 MB)\n",
      "\u001b[K     |████████████████████████████████| 2.0 MB 769 kB/s eta 0:00:01     |██████████████████████▊         | 1.4 MB 290 kB/s eta 0:00:03\n",
      "\u001b[?25hCollecting pypdf>=3.1.0\n",
      "  Downloading pypdf-3.17.1-py3-none-any.whl (277 kB)\n",
      "\u001b[K     |████████████████████████████████| 277 kB 847 kB/s eta 0:00:01\n",
      "\u001b[?25hCollecting opencv-python-headless\n",
      "  Using cached opencv_python_headless-4.8.1.78-cp37-abi3-macosx_10_16_x86_64.whl (54.7 MB)\n",
      "Collecting sentencepiece\n",
      "  Using cached sentencepiece-0.1.99-cp39-cp39-macosx_10_9_x86_64.whl (1.2 MB)\n",
      "Collecting timm==0.5.4\n",
      "  Using cached timm-0.5.4-py3-none-any.whl (431 kB)\n",
      "Collecting pypdfium2\n",
      "  Using cached pypdfium2-4.24.0-py3-none-macosx_10_13_x86_64.whl (3.0 MB)\n",
      "Requirement already satisfied: nltk in /Users/levkasenko/opt/anaconda3/lib/python3.9/site-packages (from nougat-ocr) (3.7)\n",
      "Collecting albumentations>=1.0.0\n",
      "  Using cached albumentations-1.3.1-py3-none-any.whl (125 kB)\n",
      "Collecting orjson\n",
      "  Using cached orjson-3.9.10-cp39-cp39-macosx_10_15_x86_64.macosx_11_0_arm64.macosx_10_15_universal2.whl (241 kB)\n",
      "Collecting sconf>=0.2.3\n",
      "  Using cached sconf-0.2.5-py3-none-any.whl (8.8 kB)\n",
      "Collecting datasets[vision]\n",
      "  Downloading datasets-2.15.0-py3-none-any.whl (521 kB)\n",
      "\u001b[K     |████████████████████████████████| 521 kB 294 kB/s eta 0:00:01\n",
      "\u001b[?25hCollecting python-Levenshtein\n",
      "  Using cached python_Levenshtein-0.23.0-py3-none-any.whl (9.4 kB)\n",
      "Collecting transformers>=4.25.1\n",
      "  Downloading transformers-4.35.2-py3-none-any.whl (7.9 MB)\n",
      "\u001b[K     |████████████████████████████████| 7.9 MB 471 kB/s eta 0:00:01     |████████████████████████        | 5.9 MB 346 kB/s eta 0:00:06\n",
      "\u001b[?25hRequirement already satisfied: torchvision in /Users/levkasenko/opt/anaconda3/lib/python3.9/site-packages (from timm==0.5.4->nougat-ocr) (0.15.2)\n",
      "Requirement already satisfied: torch>=1.4 in /Users/levkasenko/opt/anaconda3/lib/python3.9/site-packages (from timm==0.5.4->nougat-ocr) (2.0.1)\n",
      "Requirement already satisfied: scikit-image>=0.16.1 in /Users/levkasenko/opt/anaconda3/lib/python3.9/site-packages (from albumentations>=1.0.0->nougat-ocr) (0.19.2)\n",
      "Requirement already satisfied: scipy>=1.1.0 in /Users/levkasenko/opt/anaconda3/lib/python3.9/site-packages (from albumentations>=1.0.0->nougat-ocr) (1.7.3)\n",
      "Requirement already satisfied: numpy>=1.11.1 in /Users/levkasenko/opt/anaconda3/lib/python3.9/site-packages (from albumentations>=1.0.0->nougat-ocr) (1.21.5)\n",
      "Collecting qudida>=0.0.4\n",
      "  Using cached qudida-0.0.4-py3-none-any.whl (3.5 kB)\n",
      "Requirement already satisfied: PyYAML in /Users/levkasenko/opt/anaconda3/lib/python3.9/site-packages (from albumentations>=1.0.0->nougat-ocr) (6.0)\n",
      "Collecting lightning-utilities<2.0,>=0.8.0\n",
      "  Downloading lightning_utilities-0.10.0-py3-none-any.whl (24 kB)\n",
      "Collecting pytorch-lightning\n",
      "  Downloading pytorch_lightning-2.1.2-py3-none-any.whl (776 kB)\n",
      "\u001b[K     |████████████████████████████████| 776 kB 155 kB/s eta 0:00:01\n",
      "\u001b[?25hCollecting torchmetrics<3.0,>=0.7.0\n",
      "  Using cached torchmetrics-1.2.0-py3-none-any.whl (805 kB)\n",
      "Requirement already satisfied: typing-extensions<6.0,>=4.0.0 in /Users/levkasenko/opt/anaconda3/lib/python3.9/site-packages (from lightning<2022,>=2.0.0->nougat-ocr) (4.1.1)\n",
      "Requirement already satisfied: tqdm<6.0,>=4.57.0 in /Users/levkasenko/opt/anaconda3/lib/python3.9/site-packages (from lightning<2022,>=2.0.0->nougat-ocr) (4.64.0)\n",
      "Requirement already satisfied: packaging<25.0,>=20.0 in /Users/levkasenko/opt/anaconda3/lib/python3.9/site-packages (from lightning<2022,>=2.0.0->nougat-ocr) (21.3)\n",
      "Requirement already satisfied: fsspec[http]<2025.0,>2021.06.0 in /Users/levkasenko/opt/anaconda3/lib/python3.9/site-packages (from lightning<2022,>=2.0.0->nougat-ocr) (2022.2.0)\n",
      "Requirement already satisfied: aiohttp in /Users/levkasenko/opt/anaconda3/lib/python3.9/site-packages (from fsspec[http]<2025.0,>2021.06.0->lightning<2022,>=2.0.0->nougat-ocr) (3.8.1)\n",
      "Requirement already satisfied: requests in /Users/levkasenko/opt/anaconda3/lib/python3.9/site-packages (from fsspec[http]<2025.0,>2021.06.0->lightning<2022,>=2.0.0->nougat-ocr) (2.27.1)\n",
      "Requirement already satisfied: setuptools in /Users/levkasenko/opt/anaconda3/lib/python3.9/site-packages (from lightning-utilities<2.0,>=0.8.0->lightning<2022,>=2.0.0->nougat-ocr) (61.2.0)\n",
      "Requirement already satisfied: pyparsing!=3.0.5,>=2.0.2 in /Users/levkasenko/opt/anaconda3/lib/python3.9/site-packages (from packaging<25.0,>=20.0->lightning<2022,>=2.0.0->nougat-ocr) (3.0.4)\n",
      "Requirement already satisfied: scikit-learn>=0.19.1 in /Users/levkasenko/opt/anaconda3/lib/python3.9/site-packages (from qudida>=0.0.4->albumentations>=1.0.0->nougat-ocr) (1.0.2)\n",
      "Requirement already satisfied: pillow!=7.1.0,!=7.1.1,!=8.3.0,>=6.1.0 in /Users/levkasenko/opt/anaconda3/lib/python3.9/site-packages (from scikit-image>=0.16.1->albumentations>=1.0.0->nougat-ocr) (9.0.1)\n",
      "Requirement already satisfied: PyWavelets>=1.1.1 in /Users/levkasenko/opt/anaconda3/lib/python3.9/site-packages (from scikit-image>=0.16.1->albumentations>=1.0.0->nougat-ocr) (1.3.0)\n",
      "Requirement already satisfied: imageio>=2.4.1 in /Users/levkasenko/opt/anaconda3/lib/python3.9/site-packages (from scikit-image>=0.16.1->albumentations>=1.0.0->nougat-ocr) (2.9.0)\n",
      "Requirement already satisfied: networkx>=2.2 in /Users/levkasenko/opt/anaconda3/lib/python3.9/site-packages (from scikit-image>=0.16.1->albumentations>=1.0.0->nougat-ocr) (2.7.1)\n",
      "Requirement already satisfied: tifffile>=2019.7.26 in /Users/levkasenko/opt/anaconda3/lib/python3.9/site-packages (from scikit-image>=0.16.1->albumentations>=1.0.0->nougat-ocr) (2021.7.2)\n",
      "Requirement already satisfied: threadpoolctl>=2.0.0 in /Users/levkasenko/opt/anaconda3/lib/python3.9/site-packages (from scikit-learn>=0.19.1->qudida>=0.0.4->albumentations>=1.0.0->nougat-ocr) (2.2.0)\n",
      "Requirement already satisfied: joblib>=0.11 in /Users/levkasenko/opt/anaconda3/lib/python3.9/site-packages (from scikit-learn>=0.19.1->qudida>=0.0.4->albumentations>=1.0.0->nougat-ocr) (1.1.0)\n",
      "Collecting munch\n",
      "  Using cached munch-4.0.0-py2.py3-none-any.whl (9.9 kB)\n",
      "Collecting ruamel.yaml\n",
      "  Using cached ruamel.yaml-0.18.5-py3-none-any.whl (116 kB)\n",
      "Requirement already satisfied: filelock in /Users/levkasenko/opt/anaconda3/lib/python3.9/site-packages (from torch>=1.4->timm==0.5.4->nougat-ocr) (3.6.0)\n",
      "Requirement already satisfied: sympy in /Users/levkasenko/opt/anaconda3/lib/python3.9/site-packages (from torch>=1.4->timm==0.5.4->nougat-ocr) (1.10.1)\n",
      "Requirement already satisfied: jinja2 in /Users/levkasenko/opt/anaconda3/lib/python3.9/site-packages (from torch>=1.4->timm==0.5.4->nougat-ocr) (2.11.3)\n",
      "Requirement already satisfied: regex!=2019.12.17 in /Users/levkasenko/opt/anaconda3/lib/python3.9/site-packages (from transformers>=4.25.1->nougat-ocr) (2022.3.15)\n",
      "Collecting tokenizers<0.19,>=0.14\n",
      "  Downloading tokenizers-0.15.0-cp39-cp39-macosx_10_7_x86_64.whl (2.6 MB)\n",
      "\u001b[K     |████████████████████████████████| 2.6 MB 226 kB/s eta 0:00:01\n",
      "\u001b[?25hCollecting huggingface-hub<1.0,>=0.16.4\n",
      "  Downloading huggingface_hub-0.19.4-py3-none-any.whl (311 kB)\n",
      "\u001b[K     |████████████████████████████████| 311 kB 232 kB/s eta 0:00:01\n",
      "\u001b[?25hCollecting safetensors>=0.3.1\n",
      "  Using cached safetensors-0.4.0-cp39-cp39-macosx_10_7_x86_64.whl (439 kB)\n",
      "Collecting huggingface-hub<1.0,>=0.16.4\n",
      "  Downloading huggingface_hub-0.19.3-py3-none-any.whl (311 kB)\n",
      "\u001b[K     |████████████████████████████████| 311 kB 350 kB/s eta 0:00:01\n",
      "\u001b[?25h  Downloading huggingface_hub-0.19.2-py3-none-any.whl (311 kB)\n",
      "\u001b[K     |████████████████████████████████| 311 kB 418 kB/s eta 0:00:01\n",
      "\u001b[?25h  Downloading huggingface_hub-0.19.1-py3-none-any.whl (311 kB)\n",
      "\u001b[K     |████████████████████████████████| 311 kB 481 kB/s eta 0:00:01\n",
      "\u001b[?25h  Using cached huggingface_hub-0.19.0-py3-none-any.whl (311 kB)\n",
      "  Downloading huggingface_hub-0.18.0-py3-none-any.whl (301 kB)\n",
      "\u001b[K     |████████████████████████████████| 301 kB 632 kB/s eta 0:00:01\n",
      "\u001b[?25h  Using cached huggingface_hub-0.17.3-py3-none-any.whl (295 kB)\n",
      "Requirement already satisfied: async-timeout<5.0,>=4.0.0a3 in /Users/levkasenko/opt/anaconda3/lib/python3.9/site-packages (from aiohttp->fsspec[http]<2025.0,>2021.06.0->lightning<2022,>=2.0.0->nougat-ocr) (4.0.1)\n",
      "Requirement already satisfied: aiosignal>=1.1.2 in /Users/levkasenko/opt/anaconda3/lib/python3.9/site-packages (from aiohttp->fsspec[http]<2025.0,>2021.06.0->lightning<2022,>=2.0.0->nougat-ocr) (1.2.0)\n",
      "Requirement already satisfied: frozenlist>=1.1.1 in /Users/levkasenko/opt/anaconda3/lib/python3.9/site-packages (from aiohttp->fsspec[http]<2025.0,>2021.06.0->lightning<2022,>=2.0.0->nougat-ocr) (1.2.0)\n",
      "Requirement already satisfied: multidict<7.0,>=4.5 in /Users/levkasenko/opt/anaconda3/lib/python3.9/site-packages (from aiohttp->fsspec[http]<2025.0,>2021.06.0->lightning<2022,>=2.0.0->nougat-ocr) (5.2.0)\n",
      "Requirement already satisfied: charset-normalizer<3.0,>=2.0 in /Users/levkasenko/opt/anaconda3/lib/python3.9/site-packages (from aiohttp->fsspec[http]<2025.0,>2021.06.0->lightning<2022,>=2.0.0->nougat-ocr) (2.0.4)\n",
      "Requirement already satisfied: yarl<2.0,>=1.0 in /Users/levkasenko/opt/anaconda3/lib/python3.9/site-packages (from aiohttp->fsspec[http]<2025.0,>2021.06.0->lightning<2022,>=2.0.0->nougat-ocr) (1.6.3)\n",
      "Requirement already satisfied: attrs>=17.3.0 in /Users/levkasenko/opt/anaconda3/lib/python3.9/site-packages (from aiohttp->fsspec[http]<2025.0,>2021.06.0->lightning<2022,>=2.0.0->nougat-ocr) (21.4.0)\n"
     ]
    },
    {
     "name": "stdout",
     "output_type": "stream",
     "text": [
      "Requirement already satisfied: idna>=2.0 in /Users/levkasenko/opt/anaconda3/lib/python3.9/site-packages (from yarl<2.0,>=1.0->aiohttp->fsspec[http]<2025.0,>2021.06.0->lightning<2022,>=2.0.0->nougat-ocr) (3.3)\n",
      "Collecting dill<0.3.8,>=0.3.0\n",
      "  Using cached dill-0.3.7-py3-none-any.whl (115 kB)\n",
      "Collecting multiprocess\n",
      "  Using cached multiprocess-0.70.15-py39-none-any.whl (133 kB)\n",
      "Collecting pyarrow-hotfix\n",
      "  Downloading pyarrow_hotfix-0.5-py3-none-any.whl (7.8 kB)\n",
      "Collecting pyarrow>=8.0.0\n",
      "  Using cached pyarrow-14.0.1-cp39-cp39-macosx_10_14_x86_64.whl (26.9 MB)\n",
      "Requirement already satisfied: pandas in /Users/levkasenko/opt/anaconda3/lib/python3.9/site-packages (from datasets[vision]->nougat-ocr) (1.4.2)\n",
      "Collecting datasets[vision]\n",
      "  Downloading datasets-2.14.7-py3-none-any.whl (520 kB)\n",
      "\u001b[K     |████████████████████████████████| 520 kB 196 kB/s eta 0:00:01     |█████████████████████████▏      | 409 kB 196 kB/s eta 0:00:01\n",
      "\u001b[?25h  Using cached datasets-2.14.6-py3-none-any.whl (493 kB)\n",
      "  Downloading datasets-2.14.5-py3-none-any.whl (519 kB)\n",
      "\u001b[K     |████████████████████████████████| 519 kB 185 kB/s eta 0:00:01\n",
      "\u001b[?25h  Downloading datasets-2.14.4-py3-none-any.whl (519 kB)\n",
      "\u001b[K     |████████████████████████████████| 519 kB 174 kB/s eta 0:00:01\n",
      "\u001b[?25hCollecting xxhash\n",
      "  Using cached xxhash-3.4.1-cp39-cp39-macosx_10_9_x86_64.whl (31 kB)\n",
      "Requirement already satisfied: certifi>=2017.4.17 in /Users/levkasenko/opt/anaconda3/lib/python3.9/site-packages (from requests->fsspec[http]<2025.0,>2021.06.0->lightning<2022,>=2.0.0->nougat-ocr) (2021.10.8)\n",
      "Requirement already satisfied: urllib3<1.27,>=1.21.1 in /Users/levkasenko/opt/anaconda3/lib/python3.9/site-packages (from requests->fsspec[http]<2025.0,>2021.06.0->lightning<2022,>=2.0.0->nougat-ocr) (1.26.9)\n",
      "Requirement already satisfied: MarkupSafe>=0.23 in /Users/levkasenko/opt/anaconda3/lib/python3.9/site-packages (from jinja2->torch>=1.4->timm==0.5.4->nougat-ocr) (2.0.1)\n",
      "Requirement already satisfied: click in /Users/levkasenko/opt/anaconda3/lib/python3.9/site-packages (from nltk->nougat-ocr) (8.0.4)\n",
      "Requirement already satisfied: python-dateutil>=2.8.1 in /Users/levkasenko/opt/anaconda3/lib/python3.9/site-packages (from pandas->datasets[vision]->nougat-ocr) (2.8.2)\n",
      "Requirement already satisfied: pytz>=2020.1 in /Users/levkasenko/opt/anaconda3/lib/python3.9/site-packages (from pandas->datasets[vision]->nougat-ocr) (2021.3)\n",
      "Requirement already satisfied: six>=1.5 in /Users/levkasenko/opt/anaconda3/lib/python3.9/site-packages (from python-dateutil>=2.8.1->pandas->datasets[vision]->nougat-ocr) (1.16.0)\n",
      "Collecting Levenshtein==0.23.0\n",
      "  Using cached Levenshtein-0.23.0-cp39-cp39-macosx_10_9_x86_64.whl (133 kB)\n",
      "Collecting rapidfuzz<4.0.0,>=3.1.0\n",
      "  Using cached rapidfuzz-3.5.2-cp39-cp39-macosx_10_9_x86_64.whl (2.6 MB)\n",
      "Collecting ruamel.yaml.clib>=0.2.7\n",
      "  Using cached ruamel.yaml.clib-0.2.8-cp39-cp39-macosx_10_9_x86_64.whl (148 kB)\n",
      "Requirement already satisfied: mpmath>=0.19 in /Users/levkasenko/opt/anaconda3/lib/python3.9/site-packages (from sympy->torch>=1.4->timm==0.5.4->nougat-ocr) (1.2.1)\n",
      "Installing collected packages: lightning-utilities, dill, xxhash, torchmetrics, ruamel.yaml.clib, rapidfuzz, pyarrow, opencv-python-headless, multiprocess, huggingface-hub, tokenizers, safetensors, ruamel.yaml, qudida, pytorch-lightning, munch, Levenshtein, datasets, transformers, timm, sentencepiece, sconf, python-Levenshtein, pypdfium2, pypdf, orjson, lightning, albumentations, nougat-ocr\n",
      "Successfully installed Levenshtein-0.23.0 albumentations-1.3.1 datasets-2.14.4 dill-0.3.7 huggingface-hub-0.17.3 lightning-2.1.2 lightning-utilities-0.10.0 multiprocess-0.70.15 munch-4.0.0 nougat-ocr-0.1.17 opencv-python-headless-4.8.1.78 orjson-3.9.10 pyarrow-14.0.1 pypdf-3.17.1 pypdfium2-4.24.0 python-Levenshtein-0.23.0 pytorch-lightning-2.1.2 qudida-0.0.4 rapidfuzz-3.5.2 ruamel.yaml-0.18.5 ruamel.yaml.clib-0.2.8 safetensors-0.4.0 sconf-0.2.5 sentencepiece-0.1.99 timm-0.5.4 tokenizers-0.15.0 torchmetrics-1.2.0 transformers-4.35.2 xxhash-3.4.1\n"
     ]
    }
   ],
   "source": [
    "!pip install nougat-ocr"
   ]
  },
  {
   "cell_type": "code",
   "execution_count": null,
   "id": "82e3900e",
   "metadata": {},
   "outputs": [],
   "source": [
    "pdf_reader = PdfReader(\"your_file.pdf\")"
   ]
  },
  {
   "cell_type": "code",
   "execution_count": 3,
   "id": "7e972b23",
   "metadata": {},
   "outputs": [
    {
     "data": {
      "text/plain": [
       "1"
      ]
     },
     "execution_count": 3,
     "metadata": {},
     "output_type": "execute_result"
    }
   ],
   "source": [
    "tup = (1, 2)\n",
    "tup[0]"
   ]
  },
  {
   "cell_type": "code",
   "execution_count": null,
   "id": "147c855e",
   "metadata": {},
   "outputs": [],
   "source": []
  }
 ],
 "metadata": {
  "kernelspec": {
   "display_name": "Python 3 (ipykernel)",
   "language": "python",
   "name": "python3"
  },
  "language_info": {
   "codemirror_mode": {
    "name": "ipython",
    "version": 3
   },
   "file_extension": ".py",
   "mimetype": "text/x-python",
   "name": "python",
   "nbconvert_exporter": "python",
   "pygments_lexer": "ipython3",
   "version": "3.9.12"
  }
 },
 "nbformat": 4,
 "nbformat_minor": 5
}
